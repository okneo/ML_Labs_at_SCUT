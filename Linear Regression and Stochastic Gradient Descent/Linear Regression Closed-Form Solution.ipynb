{
 "cells": [
  {
   "cell_type": "code",
   "execution_count": 1,
   "metadata": {},
   "outputs": [],
   "source": [
    "from sklearn.datasets import load_svmlight_file\n",
    "X, y = load_svmlight_file(f=\"housing_scale.txt\", n_features=13)\n",
    "X = X.toarray()"
   ]
  },
  {
   "cell_type": "code",
   "execution_count": 2,
   "metadata": {},
   "outputs": [],
   "source": [
    "import numpy\n",
    "n_samples, n_features = X.shape\n",
    "#print(X.shape)\n",
    "X = numpy.column_stack((X, numpy.ones((n_samples, 1))))"
   ]
  },
  {
   "cell_type": "code",
   "execution_count": 3,
   "metadata": {},
   "outputs": [],
   "source": [
    "from sklearn.model_selection import train_test_split\n",
    "X_train, X_validate, y_train, y_validate = train_test_split(X, y, test_size=0.2)"
   ]
  },
  {
   "cell_type": "code",
   "execution_count": 4,
   "metadata": {},
   "outputs": [],
   "source": [
    "#w = numpy.zeros((n_features + 1, 1))"
   ]
  },
  {
   "cell_type": "code",
   "execution_count": 5,
   "metadata": {},
   "outputs": [],
   "source": [
    "from numpy.linalg import inv\n",
    "w = inv(X_train.transpose().dot(X_train)).dot(X_train.transpose()).dot(y_train)\n",
    "#print(w)"
   ]
  },
  {
   "cell_type": "code",
   "execution_count": 6,
   "metadata": {},
   "outputs": [
    {
     "name": "stdout",
     "output_type": "stream",
     "text": [
      "The loss under the training set is  11.563212637179232\n",
      "The loss under the validating set is  8.93430036898497\n"
     ]
    }
   ],
   "source": [
    "from numpy import average, square\n",
    "#print(X_train.dot(w))\n",
    "\n",
    "loss_train_closed = 0.5*average(square(y_train-X_train.dot(w)))\n",
    "loss_validate_closed = 0.5*average(square(y_validate-X_validate.dot(w)))\n",
    "print(\"The loss under the training set is \", loss_train_closed)\n",
    "print(\"The loss under the validating set is \", loss_validate_closed)"
   ]
  }
 ],
 "metadata": {
  "kernelspec": {
   "display_name": "Python 3",
   "language": "python",
   "name": "python3"
  },
  "language_info": {
   "codemirror_mode": {
    "name": "ipython",
    "version": 3
   },
   "file_extension": ".py",
   "mimetype": "text/x-python",
   "name": "python",
   "nbconvert_exporter": "python",
   "pygments_lexer": "ipython3",
   "version": "3.7.4"
  }
 },
 "nbformat": 4,
 "nbformat_minor": 2
}
